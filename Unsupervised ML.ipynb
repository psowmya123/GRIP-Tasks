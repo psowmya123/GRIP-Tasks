{
  "nbformat": 4,
  "nbformat_minor": 0,
  "metadata": {
    "colab": {
      "name": "Untitled0.ipynb",
      "provenance": []
    },
    "kernelspec": {
      "name": "python3",
      "display_name": "Python 3"
    },
    "language_info": {
      "name": "python"
    }
  },
  "cells": [
    {
      "cell_type": "code",
      "execution_count": 1,
      "metadata": {
        "id": "scbJFrPtr6zp"
      },
      "outputs": [],
      "source": [
        "import matplotlib.pyplot as plt\n",
        "from sklearn.cluster import KMeans\n",
        "from sklearn import datasets\n",
        "import pandas as pd\n",
        "import numpy as np\n",
        "from sklearn.metrics import accuracy_score"
      ]
    },
    {
      "cell_type": "code",
      "source": [
        "get_ipython().run_line_magic('matplotlib', 'inline')"
      ],
      "metadata": {
        "id": "sadA06yYr7yU"
      },
      "execution_count": 2,
      "outputs": []
    },
    {
      "cell_type": "code",
      "source": [
        "iris = datasets.load_iris()"
      ],
      "metadata": {
        "id": "vdDYnfFWr95a"
      },
      "execution_count": 3,
      "outputs": []
    },
    {
      "cell_type": "code",
      "source": [
        "X = pd.DataFrame(iris.data)\n",
        "X.columns = ['Sepal_Length', 'Sepal_Width', 'Petal_Length', 'Petal_Width']"
      ],
      "metadata": {
        "id": "07XBllEtsAAm"
      },
      "execution_count": 4,
      "outputs": []
    },
    {
      "cell_type": "code",
      "source": [
        "y = pd.DataFrame(iris.target)\n",
        "y.columns = ['Targets']"
      ],
      "metadata": {
        "id": "IfX0j1oWsB7T"
      },
      "execution_count": 5,
      "outputs": []
    },
    {
      "cell_type": "code",
      "source": [
        "# Build the KMeans Model\n",
        "kmeans = KMeans(n_clusters=3)\n",
        "clusters = kmeans.fit_predict(X)"
      ],
      "metadata": {
        "id": "oIn-nhMxsDOb"
      },
      "execution_count": 6,
      "outputs": []
    },
    {
      "cell_type": "code",
      "source": [
        "from scipy.stats import mode\n",
        "labels = np.zeros_like(clusters)"
      ],
      "metadata": {
        "id": "iu1b_JznsEqC"
      },
      "execution_count": 7,
      "outputs": []
    },
    {
      "cell_type": "code",
      "source": [
        "for i in range(3):\n",
        "    cat = (clusters == i)\n",
        "    labels[cat] = mode(iris.target[cat])[0]"
      ],
      "metadata": {
        "id": "zl51PBHLsGCz"
      },
      "execution_count": 8,
      "outputs": []
    },
    {
      "cell_type": "code",
      "source": [
        "acc = accuracy_score(iris.target, labels)\n",
        "print('Accuracy = ', acc)"
      ],
      "metadata": {
        "colab": {
          "base_uri": "https://localhost:8080/"
        },
        "id": "9DEpAMAYsHvz",
        "outputId": "89b895a3-15a9-47ac-dfa6-1476d900744e"
      },
      "execution_count": 9,
      "outputs": [
        {
          "output_type": "stream",
          "name": "stdout",
          "text": [
            "Accuracy =  0.8933333333333333\n"
          ]
        }
      ]
    },
    {
      "cell_type": "code",
      "source": [
        "plt.figure(figsize=(10, 10))\n",
        "colormap = np.array(['red', 'lime', 'blue'])"
      ],
      "metadata": {
        "colab": {
          "base_uri": "https://localhost:8080/",
          "height": 34
        },
        "id": "UWOOAMh2sJi3",
        "outputId": "3a1d411b-84fd-4fb3-df37-cc42b923a306"
      },
      "execution_count": 10,
      "outputs": [
        {
          "output_type": "display_data",
          "data": {
            "text/plain": [
              "<Figure size 720x720 with 0 Axes>"
            ]
          },
          "metadata": {}
        }
      ]
    },
    {
      "cell_type": "code",
      "source": [
        "# Plot the Original Classifications using Petal features\n",
        "plt.subplot(2, 2, 1)\n",
        "plt.scatter(X.Petal_Length, X.Petal_Width, c = colormap[y.Targets], s=40)\n",
        "plt.title('Real Clusters')\n",
        "plt.xlabel('Petal Length')\n",
        "plt.ylabel('Petal Width')"
      ],
      "metadata": {
        "colab": {
          "base_uri": "https://localhost:8080/",
          "height": 194
        },
        "id": "hReIUW1IsMAM",
        "outputId": "5d00409c-f67c-4f48-adb3-a19626756e2d"
      },
      "execution_count": 11,
      "outputs": [
        {
          "output_type": "execute_result",
          "data": {
            "text/plain": [
              "Text(0, 0.5, 'Petal Width')"
            ]
          },
          "metadata": {},
          "execution_count": 11
        },
        {
          "output_type": "display_data",
          "data": {
            "image/png": "[encoded data removed]",
            "text/plain": [
              "<Figure size 432x288 with 1 Axes>"
            ]
          },
          "metadata": {
            "needs_background": "light"
          }
        }
      ]
    },
    {
      "cell_type": "code",
      "source": [
        "# Plot KMeans Model Classifications\n",
        "plt.subplot(2, 2, 2)\n",
        "plt.scatter(X.Petal_Length, X.Petal_Width, c = colormap[labels], s = 40)\n",
        "plt.title('KMeans Clusters')\n",
        "plt.xlabel('Petal Length')\n",
        "plt.ylabel('Petal Width')"
      ],
      "metadata": {
        "colab": {
          "base_uri": "https://localhost:8080/",
          "height": 194
        },
        "id": "e7rm0G5usQHu",
        "outputId": "8df767fe-bca2-436b-bf4b-a8f1bc3b8e87"
      },
      "execution_count": 12,
      "outputs": [
        {
          "output_type": "execute_result",
          "data": {
            "text/plain": [
              "Text(0, 0.5, 'Petal Width')"
            ]
          },
          "metadata": {},
          "execution_count": 12
        },
        {
          "output_type": "display_data",
          "data": {
            "image/png": "[encoded data removed]",
            "text/plain": [
              "<Figure size 432x288 with 1 Axes>"
            ]
          },
          "metadata": {
            "needs_background": "light"
          }
        }
      ]
    },
    {
      "cell_type": "code",
      "source": [
        ""
      ],
      "metadata": {
        "id": "k1fzZFTbsR-9"
      },
      "execution_count": null,
      "outputs": []
    }
  ]
}